{
  "nbformat": 4,
  "nbformat_minor": 0,
  "metadata": {
    "colab": {
      "provenance": []
    },
    "kernelspec": {
      "name": "python3",
      "display_name": "Python 3"
    },
    "language_info": {
      "name": "python"
    }
  },
  "cells": [
    {
      "cell_type": "markdown",
      "source": [
        "# I. OOP"
      ],
      "metadata": {
        "id": "5qV_sehzFCTp"
      }
    },
    {
      "cell_type": "markdown",
      "source": [
        "1. (6б). Створіть клас Animal, додайте три атрибути, один з яких має значення за замовчуванням та два методи на свій розсуд."
      ],
      "metadata": {
        "id": "tx_U_hOALyfg"
      }
    },
    {
      "cell_type": "code",
      "source": [
        "class Animal:\n",
        "  def __init__(self, name = \"\", legs = 4, color=\"без колір\"):\n",
        "    self.name = name\n",
        "    self.legs = legs\n",
        "    self.color = color\n",
        "\n",
        "  def move(self):\n",
        "    print(f\"{self.name} рухається\")\n",
        "\n",
        "  def eat(self):\n",
        "    print(f\"{self.name} їсть\")"
      ],
      "metadata": {
        "id": "-Vf895KaL88N"
      },
      "execution_count": 5,
      "outputs": []
    },
    {
      "cell_type": "markdown",
      "source": [
        "2. (2б). Створіть два обʼєкти цього класу, де один з обʼєктів створюється із дефолтним значенням атрибуту. На одному обʼєкті отримайте значення його атрибуту, а на іншому викличте один з його методів."
      ],
      "metadata": {
        "id": "X_UlOMB0L93w"
      }
    },
    {
      "cell_type": "code",
      "source": [
        "my_animal1 = Animal(name=\"Собака\", color=\"коричневий\")\n",
        "my_animal2 = Animal(name=\"Кіт\", color=\"Білий\")\n",
        "print(f\"Ім'я: {my_animal1.name}, Лапи: {my_animal1.legs}, Колір: {my_animal1.color}\")\n",
        "my_animal2.move()"
      ],
      "metadata": {
        "id": "7gBu0ESOMCpG",
        "colab": {
          "base_uri": "https://localhost:8080/"
        },
        "outputId": "da426696-1d36-4863-c647-a94dd1975ea2"
      },
      "execution_count": 8,
      "outputs": [
        {
          "output_type": "stream",
          "name": "stdout",
          "text": [
            "Ім'я: Собака, Лапи: 4, Колір: коричневий\n",
            "Кіт рухається\n"
          ]
        }
      ]
    },
    {
      "cell_type": "markdown",
      "source": [
        "3. (5б). Створіть клас, де атрибути мають різні рівні доступу. Спробуйте отримати їхні значення та опишіть результати."
      ],
      "metadata": {
        "id": "HoqSCZt1MHn5"
      }
    },
    {
      "cell_type": "code",
      "source": [
        "class Class1:\n",
        "  v1 = 1\n",
        "  _v2 = 2\n",
        "  __v3 = 3\n",
        "\n",
        "  def __init__(self):\n",
        "    self.public_attr = 0\n",
        "\n",
        "obj1 = Class1()\n",
        "\n",
        "try:\n",
        "  print(obj1.v1)\n",
        "except AttributeError:\n",
        "  print(\"Немає доступу до 'v1'\")\n",
        "\n",
        "try:\n",
        "  print(obj1._v2)\n",
        "except AttributeError:\n",
        "  print(\"Немає доступу до '_v2'\")\n",
        "\n",
        "try:\n",
        "  print(obj1.__v3)\n",
        "except AttributeError:\n",
        "  print(\"Немає доступу до '__v3'\")"
      ],
      "metadata": {
        "id": "r9b3vJxBMSPV",
        "colab": {
          "base_uri": "https://localhost:8080/"
        },
        "outputId": "335672ba-ec63-4da2-d5cb-7ee393be337c"
      },
      "execution_count": 11,
      "outputs": [
        {
          "output_type": "stream",
          "name": "stdout",
          "text": [
            "1\n",
            "2\n",
            "Немає доступу до '__v3'\n"
          ]
        }
      ]
    },
    {
      "cell_type": "markdown",
      "source": [
        "4. (7б). Як ви розумієте термін self? Для чого використовується метод __init __?"
      ],
      "metadata": {
        "id": "5op2m2vgMSkZ"
      }
    },
    {
      "cell_type": "markdown",
      "source": [
        "self - це посилання на поточний екземпляр класу. self є першим аргументом всіх методів класу."
      ],
      "metadata": {
        "id": "DyiPqNRvMasx"
      }
    },
    {
      "cell_type": "markdown",
      "source": [
        "5. (9б). Створіть клас Фігура без атрибутів, з методом get_area для отримання площі фігури, що повертає 0 та __add __, який приймає self та other в якості аргументів, а повертає суму площин фігур self та other."
      ],
      "metadata": {
        "id": "-6X8EGfjMd2y"
      }
    },
    {
      "cell_type": "code",
      "source": [
        "class Figure:\n",
        "  def get_area(self):\n",
        "    return 0\n",
        "\n",
        "  def __add__(self, other):\n",
        "    return self.get_area() + other.get_area()\n"
      ],
      "metadata": {
        "id": "4rvO_wYUMaEr"
      },
      "execution_count": 12,
      "outputs": []
    },
    {
      "cell_type": "markdown",
      "source": [
        "6. (11б). Створіть 2 дочірніх класи від Фігури: Трикутник та Коло, які мають атрибути, необхідні для розрахунку площин. Визначте метод get_area в кожному з них так, щоби вони розраховували площу в залежності від формули для кожного типу фігури. Створіть обʼєкт класу Трикутник та обʼєкт класу Коло. Виконайте операцію суми за допомогою оператора + між ними."
      ],
      "metadata": {
        "id": "SFcKnnv5Mo_z"
      }
    },
    {
      "cell_type": "code",
      "source": [
        "class Triangle(Figure):\n",
        "  def __init__(self, side, height):\n",
        "    self.side = side\n",
        "    self.height = height\n",
        "\n",
        "  def get_area(self):\n",
        "    return (self.side * self.height) / 2\n",
        "\n",
        "class Circle(Figure):\n",
        "  def __init__(self, radius):\n",
        "    self.radius = radius\n",
        "\n",
        "  def get_area(self):\n",
        "    return 3.14 * self.radius ** 2\n",
        "\n",
        "triangle = Triangle(5, 10)\n",
        "circle = Circle(10)\n",
        "\n",
        "total_area = triangle.get_area() + circle.get_area()\n",
        "\n",
        "print(f\"Площа трикутника: {triangle.get_area()}\")\n",
        "print(f\"Площа кола: {circle.get_area()}\")\n",
        "print(f\"Загальна площа: {total_area}\")"
      ],
      "metadata": {
        "id": "H3GVNr69Muf3",
        "colab": {
          "base_uri": "https://localhost:8080/"
        },
        "outputId": "a4db6ed9-0e00-444d-a2eb-3f00d205599d"
      },
      "execution_count": 17,
      "outputs": [
        {
          "output_type": "stream",
          "name": "stdout",
          "text": [
            "Площа трикутника: 25.0\n",
            "Площа кола: 314.0\n",
            "Загальна площа: 339.0\n"
          ]
        }
      ]
    },
    {
      "cell_type": "markdown",
      "source": [
        "7. (3б). Продемонструйте різницю між isinstance та issubclass."
      ],
      "metadata": {
        "id": "HCvR206YMvLK"
      }
    },
    {
      "cell_type": "code",
      "source": [
        "if isinstance(triangle, Figure):\n",
        "  print(\"triangle є екземпляром Figure\")\n",
        "\n",
        "if isinstance(circle, Figure):\n",
        "  print(\"circle є екземпляром Figure\")\n",
        "\n",
        "if issubclass(Triangle, Figure):\n",
        "  print(\"Triangle є підкласом Figure\")\n",
        "\n",
        "if issubclass(Circle, Figure):\n",
        "  print(\"Circle є підкласом Figure\")"
      ],
      "metadata": {
        "id": "L_V1bBvDM0GN",
        "colab": {
          "base_uri": "https://localhost:8080/"
        },
        "outputId": "4b1a6f5d-c42c-4188-9ec2-d909f1f0bb2c"
      },
      "execution_count": 21,
      "outputs": [
        {
          "output_type": "stream",
          "name": "stdout",
          "text": [
            "triangle є екземпляром Figure\n",
            "circle є екземпляром Figure\n",
            "Triangle є підкласом Figure\n",
            "Circle є підкласом Figure\n"
          ]
        }
      ]
    },
    {
      "cell_type": "markdown",
      "source": [
        "8. (13б). Створіть клас BankAccount з приватними атрибутами balance та account_number. Реалізуйте методи поповнення та зняття коштів, забезпечивши належну інкапсуляцію. Підказка: використовуйте декоратори property та setter."
      ],
      "metadata": {
        "id": "jjsaBZ-iM0Qq"
      }
    },
    {
      "cell_type": "code",
      "source": [
        "class BankAccount:\n",
        "  def __init__(self, account_number, initial_balance=0):\n",
        "    self._account_number = account_number\n",
        "    self._balance = initial_balance\n",
        "\n",
        "  @property\n",
        "  def account_number(self):\n",
        "    return self._account_number\n",
        "\n",
        "  @property\n",
        "  def balance(self):\n",
        "    return self._balance\n",
        "\n",
        "  @balance.setter\n",
        "  def balance(self, new_balance):\n",
        "    self._balance = new_balance\n",
        "\n",
        "  def deposit(self, amount):\n",
        "    self._balance += amount\n",
        "    print(f\"Поповнення на {amount} грн успішно. Новий баланс: {self._balance}\")\n",
        "\n",
        "  def withdraw(self, amount):\n",
        "    if amount <= self._balance:\n",
        "      self._balance -= amount\n",
        "      print(f\"Зняття {amount} грн успішно. Новий баланс: {self._balance}\")\n",
        "    else:\n",
        "      print(\"Недостатньо коштів на рахунку.\")\n",
        "\n",
        "account = BankAccount(account_number=\"123456789\", initial_balance=1000)\n",
        "\n",
        "print(f\"Баланс: {account.balance}\")\n",
        "\n",
        "account.deposit(500)\n",
        "account.withdraw(1500)\n",
        "account.withdraw(1000)\n"
      ],
      "metadata": {
        "id": "xCvZ7lh8M7YA",
        "colab": {
          "base_uri": "https://localhost:8080/"
        },
        "outputId": "29261be3-d8b8-416c-8f39-64e47a57e0a5"
      },
      "execution_count": 33,
      "outputs": [
        {
          "output_type": "stream",
          "name": "stdout",
          "text": [
            "Баланс: 1000\n",
            "Поповнення на 500 грн успішно. Новий баланс: 1500\n",
            "Зняття 1500 грн успішно. Новий баланс: 0\n",
            "Недостатньо коштів на рахунку.\n"
          ]
        }
      ]
    },
    {
      "cell_type": "markdown",
      "source": [
        "9. (11б). Створіть клас Library, який містить список об'єктів типу Book. Реалізуйте методи для додавання книги, видалення книги та відображення списку книг."
      ],
      "metadata": {
        "id": "tIzL2SJTM8ft"
      }
    },
    {
      "cell_type": "code",
      "source": [
        "class Book:\n",
        "  def __init__(self, title, author):\n",
        "    self.title = title\n",
        "    self.author = author\n",
        "\n",
        "class Library:\n",
        "  def __init__(self, books = []):\n",
        "    self.books = books\n",
        "\n",
        "  def add_book(self, title, author):\n",
        "    new_book = Book(title, author)\n",
        "    self.books.append(new_book)\n",
        "    print(f\"Книга '{new_book.title}' додана до бібліотеки.\")\n",
        "\n",
        "  def remove_book(self, title):\n",
        "    for book in self.books:\n",
        "      if book.title == title:\n",
        "        self.books.remove(book)\n",
        "        print(f\"Книга '{title}' видалена з бібліотеки.\")\n",
        "        return\n",
        "    print(f\"Книга '{title}' не знайдена в бібліотеці.\")\n",
        "\n",
        "  def display(self):\n",
        "    print(\"Список книг у бібліотеці:\")\n",
        "    for book in self.books:\n",
        "      print(f\"{book.title}, {book.author}\")\n",
        "\n",
        "library = Library()\n",
        "\n",
        "library.add_book(\"451 градус за Фаренгейтом\", \"Рей Бредбері\")\n",
        "library.add_book(\"1984\", \"Джордж Оруелл\")\n",
        "\n",
        "library.display()\n",
        "\n",
        "library.remove_book(\"1984\")\n",
        "\n",
        "library.display()"
      ],
      "metadata": {
        "id": "HWxfJKLtNAUZ",
        "colab": {
          "base_uri": "https://localhost:8080/"
        },
        "outputId": "90bda169-e185-4298-dd67-b43d16fe7803"
      },
      "execution_count": 43,
      "outputs": [
        {
          "output_type": "stream",
          "name": "stdout",
          "text": [
            "Книга '451 градус за Фаренгейтом' додана до бібліотеки.\n",
            "Книга '1984' додана до бібліотеки.\n",
            "Список книг у бібліотеці:\n",
            "451 градус за Фаренгейтом, Рей Бредбері\n",
            "1984, Джордж Оруелл\n",
            "Книга '1984' видалена з бібліотеки.\n",
            "Список книг у бібліотеці:\n",
            "451 градус за Фаренгейтом, Рей Бредбері\n"
          ]
        }
      ]
    },
    {
      "cell_type": "markdown",
      "source": [
        "10. (13б). Створіть клас Person з атрибутами name та age. Створіть ще один клас Employee з такими атрибутами, як department та salary. Створіть клас Manager, який успадковує обидва класи Person та Employee. Продемонструйте використання множинної спадковості, створивши обʼєкт класу Manager та отримавши mro для цього класу."
      ],
      "metadata": {
        "id": "lmV8pAwwNIqu"
      }
    },
    {
      "cell_type": "code",
      "source": [
        "class Person:\n",
        "  def __init__(self, name, age):\n",
        "    self.name = name\n",
        "    self.age = age\n",
        "\n",
        "  def display(self):\n",
        "    print(f\"Name: {self.name}, Age: {self.age}\")\n",
        "\n",
        "class Employee:\n",
        "  def __init__(self, department, salary):\n",
        "    self.department = department\n",
        "    self.salary = salary\n",
        "\n",
        "  def display(self):\n",
        "    print(f\"Department: {self.department}, Salary: {self.salary}\")\n",
        "\n",
        "class Manager(Person, Employee):\n",
        "  def __init__(self, name, age, department, salary):\n",
        "    Person.__init__(self, name, age)\n",
        "    Employee.__init__(self, department, salary)\n",
        "\n",
        "  def display(self):\n",
        "    print(f\"Name: {self.name}, Age: {self.age}, Department: {self.department}, Salary: {self.salary}\")\n",
        "\n",
        "manager = Manager(name=\"Jane\", age=35, department=\"Sales\", salary=15000)\n",
        "manager.display()\n",
        "print(f\"mro для класу Manager: {Manager.mro()}\")"
      ],
      "metadata": {
        "id": "R49grKlWNPeN",
        "colab": {
          "base_uri": "https://localhost:8080/"
        },
        "outputId": "7edfd374-b58e-4581-abb9-4922ee11254c"
      },
      "execution_count": 48,
      "outputs": [
        {
          "output_type": "stream",
          "name": "stdout",
          "text": [
            "Name: Jane, Age: 35, Department: Sales, Salary: 15000\n",
            "mro для класу Manager: [<class '__main__.Manager'>, <class '__main__.Person'>, <class '__main__.Employee'>, <class 'object'>]\n"
          ]
        }
      ]
    },
    {
      "cell_type": "markdown",
      "source": [
        "# II. Iterator"
      ],
      "metadata": {
        "id": "dIJyUiNBFG8G"
      }
    },
    {
      "cell_type": "markdown",
      "source": [
        "11. (4б). Визначте рядок(str) з 4ма різними за значенням символами. Створіть ітератор на основі цього рядка. Викличте 5 разів функцію next на ітераторі, 4ри перших з них огорніть у ф-цію print()."
      ],
      "metadata": {
        "id": "13vsm0NyKIzL"
      }
    },
    {
      "cell_type": "code",
      "source": [
        "mystr = \"abcd\"\n",
        "iter1 = iter(mystr)\n",
        "\n",
        "print(next(iter1))\n",
        "print(next(iter1))\n",
        "print(next(iter1))\n",
        "print(next(iter1))\n",
        "next(iter1)"
      ],
      "metadata": {
        "id": "81ntabAkKuz-",
        "colab": {
          "base_uri": "https://localhost:8080/",
          "height": 220
        },
        "outputId": "812075d0-89d0-41e6-c913-b05d12441cb3"
      },
      "execution_count": 74,
      "outputs": [
        {
          "output_type": "error",
          "ename": "TypeError",
          "evalue": "'str_iterator' object is not callable",
          "traceback": [
            "\u001b[0;31m---------------------------------------------------------------------------\u001b[0m",
            "\u001b[0;31mTypeError\u001b[0m                                 Traceback (most recent call last)",
            "\u001b[0;32m<ipython-input-74-43f2a013946e>\u001b[0m in \u001b[0;36m<cell line: 2>\u001b[0;34m()\u001b[0m\n\u001b[1;32m      1\u001b[0m \u001b[0mmystr\u001b[0m \u001b[0;34m=\u001b[0m \u001b[0;34m\"abcd\"\u001b[0m\u001b[0;34m\u001b[0m\u001b[0;34m\u001b[0m\u001b[0m\n\u001b[0;32m----> 2\u001b[0;31m \u001b[0miter1\u001b[0m \u001b[0;34m=\u001b[0m \u001b[0miter\u001b[0m\u001b[0;34m(\u001b[0m\u001b[0mmystr\u001b[0m\u001b[0;34m)\u001b[0m\u001b[0;34m\u001b[0m\u001b[0;34m\u001b[0m\u001b[0m\n\u001b[0m\u001b[1;32m      3\u001b[0m \u001b[0;34m\u001b[0m\u001b[0m\n\u001b[1;32m      4\u001b[0m \u001b[0mprint\u001b[0m\u001b[0;34m(\u001b[0m\u001b[0mnext\u001b[0m\u001b[0;34m(\u001b[0m\u001b[0miter1\u001b[0m\u001b[0;34m)\u001b[0m\u001b[0;34m)\u001b[0m\u001b[0;34m\u001b[0m\u001b[0;34m\u001b[0m\u001b[0m\n\u001b[1;32m      5\u001b[0m \u001b[0mprint\u001b[0m\u001b[0;34m(\u001b[0m\u001b[0mnext\u001b[0m\u001b[0;34m(\u001b[0m\u001b[0miter1\u001b[0m\u001b[0;34m)\u001b[0m\u001b[0;34m)\u001b[0m\u001b[0;34m\u001b[0m\u001b[0;34m\u001b[0m\u001b[0m\n",
            "\u001b[0;31mTypeError\u001b[0m: 'str_iterator' object is not callable"
          ]
        }
      ]
    },
    {
      "cell_type": "markdown",
      "source": [
        "А що якщо викликати цю ж функцію на рядку?"
      ],
      "metadata": {
        "id": "aekWHGXOLRsO"
      }
    },
    {
      "cell_type": "markdown",
      "source": [
        "Отримається ітератор, який дозволить ітерувати кожен символ у рядку"
      ],
      "metadata": {
        "id": "2Y2Wp-YkUFsw"
      }
    },
    {
      "cell_type": "markdown",
      "source": [
        " 12. (5б). Опишіть своїми словами в одному реченні, як ви розумієте різницю між ітерабельними обʼєктами та ітераторами (можна на прикладі)."
      ],
      "metadata": {
        "id": "XwtMEopwJ4pH"
      }
    },
    {
      "cell_type": "markdown",
      "source": [
        "Через ітерабельні об'єкти можна перебирати списки або рядки, тоді як ітератори - це об'єкти, які втілюють ітерацію і мають методи \\_\\_iter\\_\\_ та \\_\\_next\\_\\_."
      ],
      "metadata": {
        "id": "-sHrODc3KFn8"
      }
    },
    {
      "cell_type": "markdown",
      "source": [
        "13. (11б). Створіть клас, що має визначений Iterator Protocol та при кожному виклику next повертає літери англійської абетки, поки вони не вичерпаються."
      ],
      "metadata": {
        "id": "E9qJWmNbK8Gl"
      }
    },
    {
      "cell_type": "code",
      "source": [
        "class AlphabetIterator:\n",
        "  def __init__(self):\n",
        "    self.current_char = ord('A')\n",
        "\n",
        "  def __iter__(self):\n",
        "    return self\n",
        "\n",
        "  def __next__(self):\n",
        "    if self.current_char <= ord('Z'):\n",
        "      char = chr(self.current_char)\n",
        "      self.current_char += 1\n",
        "      return char\n",
        "    else:\n",
        "      raise StopIteration()\n",
        "\n",
        "alphabet_iterator = AlphabetIterator()\n",
        "\n",
        "for letter in alphabet_iterator:\n",
        "  print(letter)"
      ],
      "metadata": {
        "id": "cqx-g_RsLo6I",
        "colab": {
          "base_uri": "https://localhost:8080/"
        },
        "outputId": "1e029adf-1995-4e72-bf0c-d12561b38a25"
      },
      "execution_count": 61,
      "outputs": [
        {
          "output_type": "stream",
          "name": "stdout",
          "text": [
            "A\n",
            "B\n",
            "C\n",
            "D\n",
            "E\n",
            "F\n",
            "G\n",
            "H\n",
            "I\n",
            "J\n",
            "K\n",
            "L\n",
            "M\n",
            "N\n",
            "O\n",
            "P\n",
            "Q\n",
            "R\n",
            "S\n",
            "T\n",
            "U\n",
            "V\n",
            "W\n",
            "X\n",
            "Y\n",
            "Z\n"
          ]
        }
      ]
    },
    {
      "cell_type": "markdown",
      "source": [
        "# Вітаю! Ви велика(ий) молодець, що впоралась(вся). Похваліть себе та побалуйте чимось приємним. Я Вами пишаюся."
      ],
      "metadata": {
        "id": "Z3E3S_s1Fv7-"
      }
    }
  ]
}